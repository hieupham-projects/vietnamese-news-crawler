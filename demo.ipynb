{
 "cells": [
  {
   "cell_type": "code",
   "execution_count": 33,
   "metadata": {},
   "outputs": [
    {
     "name": "stdout",
     "output_type": "stream",
     "text": [
      "Looking in indexes: https://pypi.org/simple, https://pypi.ngc.nvidia.com\n",
      "Requirement already satisfied: tqdm==4.66.1 in /Users/hieupham/.asdf/installs/python/3.11.0/lib/python3.11/site-packages (from -r requirements.txt (line 1)) (4.66.1)\n",
      "Requirement already satisfied: beautifulsoup4==4.12.2 in /Users/hieupham/.asdf/installs/python/3.11.0/lib/python3.11/site-packages (from -r requirements.txt (line 2)) (4.12.2)\n",
      "Requirement already satisfied: loguru==0.7.2 in /Users/hieupham/.asdf/installs/python/3.11.0/lib/python3.11/site-packages (from -r requirements.txt (line 3)) (0.7.2)\n",
      "Requirement already satisfied: underthesea in /Users/hieupham/.asdf/installs/python/3.11.0/lib/python3.11/site-packages (from -r requirements.txt (line 4)) (6.8.3)\n",
      "Collecting fasttext\n",
      "  Downloading fasttext-0.9.3.tar.gz (73 kB)\n",
      "\u001b[2K     \u001b[90m━━━━━━━━━━━━━━━━━━━━━━━━━━━━━━━━━━━━━━━━\u001b[0m \u001b[32m73.4/73.4 kB\u001b[0m \u001b[31m1.1 MB/s\u001b[0m eta \u001b[36m0:00:00\u001b[0ma \u001b[36m0:00:01\u001b[0m\n",
      "\u001b[?25h  Installing build dependencies ... \u001b[?25ldone\n",
      "\u001b[?25h  Getting requirements to build wheel ... \u001b[?25ldone\n",
      "\u001b[?25h  Preparing metadata (pyproject.toml) ... \u001b[?25ldone\n",
      "\u001b[?25hRequirement already satisfied: soupsieve>1.2 in /Users/hieupham/.asdf/installs/python/3.11.0/lib/python3.11/site-packages (from beautifulsoup4==4.12.2->-r requirements.txt (line 2)) (2.6)\n",
      "Requirement already satisfied: Click>=6.0 in /Users/hieupham/.asdf/installs/python/3.11.0/lib/python3.11/site-packages (from underthesea->-r requirements.txt (line 4)) (8.1.7)\n",
      "Requirement already satisfied: python-crfsuite>=0.9.6 in /Users/hieupham/.asdf/installs/python/3.11.0/lib/python3.11/site-packages (from underthesea->-r requirements.txt (line 4)) (0.9.10)\n",
      "Requirement already satisfied: nltk in /Users/hieupham/.asdf/installs/python/3.11.0/lib/python3.11/site-packages (from underthesea->-r requirements.txt (line 4)) (3.8.1)\n",
      "Requirement already satisfied: requests in /Users/hieupham/.asdf/installs/python/3.11.0/lib/python3.11/site-packages (from underthesea->-r requirements.txt (line 4)) (2.31.0)\n",
      "Requirement already satisfied: joblib in /Users/hieupham/.asdf/installs/python/3.11.0/lib/python3.11/site-packages (from underthesea->-r requirements.txt (line 4)) (1.4.2)\n",
      "Requirement already satisfied: scikit-learn in /Users/hieupham/.asdf/installs/python/3.11.0/lib/python3.11/site-packages (from underthesea->-r requirements.txt (line 4)) (1.4.0)\n",
      "Requirement already satisfied: PyYAML in /Users/hieupham/.asdf/installs/python/3.11.0/lib/python3.11/site-packages (from underthesea->-r requirements.txt (line 4)) (6.0.1)\n",
      "Requirement already satisfied: underthesea-core==1.0.4 in /Users/hieupham/.asdf/installs/python/3.11.0/lib/python3.11/site-packages (from underthesea->-r requirements.txt (line 4)) (1.0.4)\n",
      "Collecting pybind11>=2.2\n",
      "  Downloading pybind11-2.13.6-py3-none-any.whl (243 kB)\n",
      "\u001b[2K     \u001b[90m━━━━━━━━━━━━━━━━━━━━━━━━━━━━━━━━━━━━━━━\u001b[0m \u001b[32m243.3/243.3 kB\u001b[0m \u001b[31m3.8 MB/s\u001b[0m eta \u001b[36m0:00:00\u001b[0ma \u001b[36m0:00:01\u001b[0m\n",
      "\u001b[?25hRequirement already satisfied: setuptools>=0.7.0 in /Users/hieupham/.asdf/installs/python/3.11.0/lib/python3.11/site-packages (from fasttext->-r requirements.txt (line 5)) (65.5.0)\n",
      "Requirement already satisfied: numpy in /Users/hieupham/.asdf/installs/python/3.11.0/lib/python3.11/site-packages (from fasttext->-r requirements.txt (line 5)) (1.26.4)\n",
      "Requirement already satisfied: regex>=2021.8.3 in /Users/hieupham/.asdf/installs/python/3.11.0/lib/python3.11/site-packages (from nltk->underthesea->-r requirements.txt (line 4)) (2024.5.15)\n",
      "Requirement already satisfied: charset-normalizer<4,>=2 in /Users/hieupham/.asdf/installs/python/3.11.0/lib/python3.11/site-packages (from requests->underthesea->-r requirements.txt (line 4)) (3.3.2)\n",
      "Requirement already satisfied: idna<4,>=2.5 in /Users/hieupham/.asdf/installs/python/3.11.0/lib/python3.11/site-packages (from requests->underthesea->-r requirements.txt (line 4)) (3.6)\n",
      "Requirement already satisfied: urllib3<3,>=1.21.1 in /Users/hieupham/.asdf/installs/python/3.11.0/lib/python3.11/site-packages (from requests->underthesea->-r requirements.txt (line 4)) (2.2.0)\n",
      "Requirement already satisfied: certifi>=2017.4.17 in /Users/hieupham/.asdf/installs/python/3.11.0/lib/python3.11/site-packages (from requests->underthesea->-r requirements.txt (line 4)) (2024.2.2)\n",
      "Requirement already satisfied: scipy>=1.6.0 in /Users/hieupham/.asdf/installs/python/3.11.0/lib/python3.11/site-packages (from scikit-learn->underthesea->-r requirements.txt (line 4)) (1.12.0)\n",
      "Requirement already satisfied: threadpoolctl>=2.0.0 in /Users/hieupham/.asdf/installs/python/3.11.0/lib/python3.11/site-packages (from scikit-learn->underthesea->-r requirements.txt (line 4)) (3.5.0)\n",
      "Building wheels for collected packages: fasttext\n",
      "  Building wheel for fasttext (pyproject.toml) ... \u001b[?25ldone\n",
      "\u001b[?25h  Created wheel for fasttext: filename=fasttext-0.9.3-cp311-cp311-macosx_14_0_arm64.whl size=341725 sha256=f9eb43b2ea447511e58c3c427ecead89ca01e63989bbecbff994b98bab9e9798\n",
      "  Stored in directory: /private/var/folders/fp/p_9brvds1zsfds757_c53kbr0000gn/T/pip-ephem-wheel-cache-_17kkyuj/wheels/29/ca/9d/303ccc662b431007eb0e3bbc3f5db41d77ecccbd33390d3db8\n",
      "Successfully built fasttext\n",
      "Installing collected packages: pybind11, fasttext\n",
      "Successfully installed fasttext-0.9.3 pybind11-2.13.6\n",
      "\n",
      "\u001b[1m[\u001b[0m\u001b[34;49mnotice\u001b[0m\u001b[1;39;49m]\u001b[0m\u001b[39;49m A new release of pip available: \u001b[0m\u001b[31;49m22.3\u001b[0m\u001b[39;49m -> \u001b[0m\u001b[32;49m24.2\u001b[0m\n",
      "\u001b[1m[\u001b[0m\u001b[34;49mnotice\u001b[0m\u001b[1;39;49m]\u001b[0m\u001b[39;49m To update, run: \u001b[0m\u001b[32;49mpip3 install --upgrade pip\u001b[0m\n",
      "Reshimming asdf python...\n"
     ]
    }
   ],
   "source": [
    "# Install dependencies\n",
    "!pip install -r requirements.txt"
   ]
  },
  {
   "cell_type": "code",
   "execution_count": 31,
   "metadata": {},
   "outputs": [
    {
     "name": "stdout",
     "output_type": "stream",
     "text": [
      "\u001b[32m2024-09-20 16:38:51.427\u001b[0m | \u001b[34m\u001b[1mDEBUG   \u001b[0m | \u001b[36mcrawler.vnexpress_crawler\u001b[0m:\u001b[36m__init__\u001b[0m:\u001b[36m35\u001b[0m - \u001b[34m\u001b[1mthoi-su\u001b[0m\n",
      "\u001b[32m2024-09-20 16:38:51.427\u001b[0m | \u001b[1mINFO    \u001b[0m | \u001b[36mcrawler.vietnamnet_crawler\u001b[0m:\u001b[36m_crawl_urls\u001b[0m:\u001b[36m38\u001b[0m - \u001b[1mStart crawling urls\u001b[0m\n",
      "100%|█████████████████████████████████████████████| 2/2 [00:00<00:00,  3.44it/s]\n",
      " 10%|████▍                                       | 5/50 [00:01<00:09,  4.86it/s]\u001b[32m2024-09-20 16:38:53.426\u001b[0m | \u001b[34m\u001b[1mDEBUG   \u001b[0m | \u001b[36mcrawler.vietnamnet_crawler\u001b[0m:\u001b[36m_crawl_articles\u001b[0m:\u001b[36m101\u001b[0m - \u001b[34m\u001b[1mError 'NoneType' object has no attribute 'find_all' at https://vietnamnet.vn//beo-tay-rac-thai-bua-vay-bai-bien-da-nang-sau-bao-so-4-2324160.html\u001b[0m\n",
      " 14%|██████▏                                     | 7/50 [00:01<00:08,  4.94it/s]\u001b[32m2024-09-20 16:38:54.057\u001b[0m | \u001b[34m\u001b[1mDEBUG   \u001b[0m | \u001b[36mcrawler.vietnamnet_crawler\u001b[0m:\u001b[36m_crawl_articles\u001b[0m:\u001b[36m101\u001b[0m - \u001b[34m\u001b[1mError 'NoneType' object has no attribute 'find_all' at https://vietnamnet.vn//nuoc-khong-rut-ron-lu-o-chuong-my-hoa-canh-nuoc-noi-mien-tay-2323934.html\u001b[0m\n",
      " 78%|█████████████████████████████████▌         | 39/50 [00:07<00:01,  5.71it/s]\u001b[32m2024-09-20 16:38:59.798\u001b[0m | \u001b[34m\u001b[1mDEBUG   \u001b[0m | \u001b[36mcrawler.vietnamnet_crawler\u001b[0m:\u001b[36m_crawl_articles\u001b[0m:\u001b[36m101\u001b[0m - \u001b[34m\u001b[1mError 'NoneType' object has no attribute 'find_all' at https://vietnamnet.vn//hien-truong-vu-sap-cau-ngoi-mong-o-thanh-pho-hoa-binh-2323781.html\u001b[0m\n",
      "100%|███████████████████████████████████████████| 50/50 [00:09<00:00,  5.02it/s]\n"
     ]
    }
   ],
   "source": [
    "# Demo crawling vn express\n",
    "!python main.py --num-processes=2 --start-range 0 --end-range 2 --crawler-type vietnamnet --category thoi-su --output-file-path output-vietnamnet.json"
   ]
  },
  {
   "cell_type": "code",
   "execution_count": 41,
   "metadata": {},
   "outputs": [
    {
     "name": "stdout",
     "output_type": "stream",
     "text": [
      "\n",
      "Hôm nay (19/9), Ủy ban MTTQ Việt Nam tỉnh Bình Dương công bố sao kê giao dịch qua tài khoản ngân hàng của các tổ chức, cá nhân ủng hộ đồng bào miền Bắc bị lũ lụt.\n",
      "Ở đợt công khai lần này (từ ngày 10-18/9), có tổng cộng 327 trang sao kê các giao dịch chuyển tiền của hơn 4.000 tổ chức, cá nhân chuyển khoản ủng hộ thông qua số tài khoản của Ban vận động cứu trợ tỉnh mở tại ngân hàng Vietcombank, với số tiền hơn 20 tỷ đồng.\n",
      "Trước đó, vào ngày 13/9, Ủy ban MTTQ Việt Nam tỉnh Bình Dương cũng đã công bố công khai 117 trang sao kê các giao dịch chuyển tiền ủng hộ đồng bào miền Bắc bị lũ lụt với số tiền hơn 2 tỷ đồng.\n",
      "Ủy ban MTTQ Việt Nam tỉnh Bình Dương cho biết để minh bạch thông tin ủng hộ đồng bào bị lũ lụt, tổ chức này sẽ công khai toàn bộ sao kê.\n",
      "Trước đó, thông qua Ban cứu trợ Trung ương, tỉnh Bình Dương đã hỗ trợ 10 tỷ đồng cho các tỉnh phía Bắc bị thiệt hại do bão số 3. Nhiều nhu yếu phẩm và tiền hỗ trợ cũng được tỉnh này ủng hộ cho các tỉnh bị lũ lụt sau bão.\n",
      "2024-09-20 16:41:25,902 https://github.com/undertheseanlp/playground/releases/download/1.3.x/tc_svm_vntc_20201228.zip not found in cache, downloading to /var/folders/fp/p_9brvds1zsfds757_c53kbr0000gn/T/tmpid9xi63q\n"
     ]
    },
    {
     "name": "stderr",
     "output_type": "stream",
     "text": [
      "100%|██████████| 75578053/75578053 [00:04<00:00, 17579484.76B/s]"
     ]
    },
    {
     "name": "stdout",
     "output_type": "stream",
     "text": [
      "2024-09-20 16:41:31,594 copying /var/folders/fp/p_9brvds1zsfds757_c53kbr0000gn/T/tmpid9xi63q to cache at /Users/hieupham/.underthesea/models/tc_svm_vntc_20201228.zip\n"
     ]
    },
    {
     "name": "stderr",
     "output_type": "stream",
     "text": [
      "\n"
     ]
    },
    {
     "name": "stdout",
     "output_type": "stream",
     "text": [
      "2024-09-20 16:41:31,640 removing temp file /var/folders/fp/p_9brvds1zsfds757_c53kbr0000gn/T/tmpid9xi63q\n",
      "['chinh_tri_xa_hoi']\n"
     ]
    }
   ],
   "source": [
    "# Demo sentiment analysis\n",
    "from underthesea import sentiment\n",
    "from underthesea import classify\n",
    "\n",
    "# Load data from output-vnexpress.json\n",
    "import json\n",
    "with open('output-vietnamnet.json', 'r') as f:\n",
    "    data = json.load(f)\n",
    "    # Example json data format\n",
    "    # {\n",
    "    #     \"title\": \"TP.HCM thắng trận ra quân giải U19 nữ VĐQG 2024\",\n",
    "    #     \"author\": \"Đại Nam\",\n",
    "    #     \"category\": \"Thể thao\",\n",
    "    #     \"content\": \"\\nChiều 18/9, tại sân Trung tâm đào tạo bóng đá trẻ Việt Nam, diễn ra lễ khai mạc và lượt trận mở màn giải bóng đá nữ U19 VĐQG – Cúp Acecook 2024. Giải có 6 đội tham gia gồm: Hà Nội, Phong Phú Hà Nam, TP.HCM, Thái Nguyên T&T, Sơn La và Zantino Vĩnh Phúc.\\nCác đội thi đấu vòng tròn hai lượt đi và về để tính điểm xếp hạng chung cuộc. Giải đấu diễn ra từ ngày 18/9 đến ngày 19/10 tại Trung tâm Đào tạo Bóng đá trẻ Việt Nam (lượt đi) và SVĐ Hà Nam (lượt về).\\nNgay sau lễ khai mạc là trận đấu giữa nữ TP.HCM và Zantino Vĩnh Phúc - đội bóng được đánh giá là ẩn số của giải. Đại diện phía Bắc xây dựng hệ thống phòng ngự chắc chắn với đội trưởng Phương Thảo, Hà Thị Hào hay Trà My. Trong hiệp 1, TP.HCM thi đấu tốt hơn nhưng không nhiều cơ hội nguy hiểm.\\nBước sang hiệp 2, TP.HCM tiếp tục duy trì sức ép, trong khi Zantino Vĩnh Phúc nỗ lực phòng ngự. Khi nhiều người nghĩ về 1 điểm cho thầy trò HLV Trần Công Thành thì kịch tính xảy ra ở phút bù giờ của hiệp 2. Phút 90+2, từ pha đá phạt bên phía cạnh trái, Huỳnh Thị Kim Hoa băng vào dứt điểm cận thành mở tỉ số trận đấu cho TP.HCM.\\nHai phút ngắn ngủi còn lại, cô trò HLV Lưu Ngọc Mai tập trung bảo toàn tỉ số và họ giành chiến thắng chung cuộc 1-0 trước Zantino Vĩnh Phúc.\\nỞ trận đấu diễn ra vào lúc 18h giữa Phong Phú Hà Nam vs Hà Nội có kết quả hòa 2-2.\",\n",
    "    #     \"description\": \"Bàn thắng ở thời gian bù giờ của hiệp 2 giúp TP.HCM có được chiến thắng nghẹt thở trước Zantino Vĩnh Phúc trong ngày khai màn giải bóng đá nữ U19 Quốc gia 2024.\"\n",
    "    # },\n",
    "    \n",
    "    # Sentiment the first article from data json\n",
    "\n",
    "    print(classify(data[0]['content']))\n",
    "    "
   ]
  }
 ],
 "metadata": {
  "kernelspec": {
   "display_name": "Python 3",
   "language": "python",
   "name": "python3"
  },
  "language_info": {
   "codemirror_mode": {
    "name": "ipython",
    "version": 3
   },
   "file_extension": ".py",
   "mimetype": "text/x-python",
   "name": "python",
   "nbconvert_exporter": "python",
   "pygments_lexer": "ipython3",
   "version": "3.11.0"
  }
 },
 "nbformat": 4,
 "nbformat_minor": 2
}
